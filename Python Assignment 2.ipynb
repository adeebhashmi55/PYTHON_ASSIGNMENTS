{
 "cells": [
  {
   "cell_type": "code",
   "execution_count": 1,
   "id": "ddce7601-afe9-4b90-aec9-4a1a9b480a4f",
   "metadata": {},
   "outputs": [],
   "source": [
    "# Assignment no .2"
   ]
  },
  {
   "cell_type": "code",
   "execution_count": null,
   "id": "0e7b8f38-ed8b-46a1-adcb-513075834988",
   "metadata": {},
   "outputs": [],
   "source": [
    "# 1.Create a variable age and assign it the value 25 . Then print the value of age along with its data type using the type() function"
   ]
  },
  {
   "cell_type": "code",
   "execution_count": 2,
   "id": "339ed0b2-2372-48cf-9417-4690f7ed2ed9",
   "metadata": {},
   "outputs": [
    {
     "name": "stdout",
     "output_type": "stream",
     "text": [
      "24\n"
     ]
    },
    {
     "data": {
      "text/plain": [
       "int"
      ]
     },
     "execution_count": 2,
     "metadata": {},
     "output_type": "execute_result"
    }
   ],
   "source": [
    "age = 24\n",
    "print(age)\n",
    "type(age)"
   ]
  },
  {
   "cell_type": "code",
   "execution_count": null,
   "id": "726046a1-6160-4a2c-9c5c-6c9868309fda",
   "metadata": {},
   "outputs": [],
   "source": []
  },
  {
   "cell_type": "code",
   "execution_count": null,
   "id": "50c10aca-f107-4a59-b382-61639f8289c2",
   "metadata": {},
   "outputs": [],
   "source": [
    "# 2.Assign the number 12.5 to a variable price . Print both the variable and its data type. Then assign the value 12 to the same variable and print its data type again. What do you observe?"
   ]
  },
  {
   "cell_type": "code",
   "execution_count": 4,
   "id": "6c13aff9-3ae3-477a-a411-39c5240b6160",
   "metadata": {},
   "outputs": [
    {
     "name": "stdout",
     "output_type": "stream",
     "text": [
      "12.5\n"
     ]
    },
    {
     "data": {
      "text/plain": [
       "float"
      ]
     },
     "execution_count": 4,
     "metadata": {},
     "output_type": "execute_result"
    }
   ],
   "source": [
    "price = 12.5\n",
    "print(price)\n",
    "type(price)"
   ]
  },
  {
   "cell_type": "code",
   "execution_count": 5,
   "id": "592ab9a5-f2e7-4cfb-844c-89857d6740a5",
   "metadata": {},
   "outputs": [
    {
     "name": "stdout",
     "output_type": "stream",
     "text": [
      "12\n"
     ]
    },
    {
     "data": {
      "text/plain": [
       "int"
      ]
     },
     "execution_count": 5,
     "metadata": {},
     "output_type": "execute_result"
    }
   ],
   "source": [
    "price = 12\n",
    "print(price)\n",
    "type(price)"
   ]
  },
  {
   "cell_type": "code",
   "execution_count": 6,
   "id": "330276f8-2fbc-42c2-80ce-e98f0ff7133f",
   "metadata": {},
   "outputs": [
    {
     "name": "stdout",
     "output_type": "stream",
     "text": [
      "the first value 12.5 has a decimal so it a float while the second value 12 is a integar as it is a whole number.the decimal indiactes a float.\n"
     ]
    }
   ],
   "source": [
    "print(\"the first value 12.5 has a decimal so it a float while the second value 12 is a integar as it is a whole number.the decimal indiactes a float.\")"
   ]
  },
  {
   "cell_type": "code",
   "execution_count": null,
   "id": "a3bb98c8-bc81-4094-b690-0393a2e77c65",
   "metadata": {},
   "outputs": [],
   "source": [
    "# 3.Create a variable is_raining and set it to True . Print the value of the variable along with its type. Then set is_raining to False and print the new value and type."
   ]
  },
  {
   "cell_type": "code",
   "execution_count": 8,
   "id": "3e496719-d469-4743-8e9c-85950914c883",
   "metadata": {},
   "outputs": [
    {
     "name": "stdout",
     "output_type": "stream",
     "text": [
      "True\n"
     ]
    },
    {
     "data": {
      "text/plain": [
       "bool"
      ]
     },
     "execution_count": 8,
     "metadata": {},
     "output_type": "execute_result"
    }
   ],
   "source": [
    "is_raining = True\n",
    "print(is_raining)\n",
    "type(is_raining)"
   ]
  },
  {
   "cell_type": "code",
   "execution_count": 9,
   "id": "f56f7c3c-f2ac-449f-b750-7e1c25fae074",
   "metadata": {},
   "outputs": [
    {
     "name": "stdout",
     "output_type": "stream",
     "text": [
      "False\n"
     ]
    },
    {
     "data": {
      "text/plain": [
       "bool"
      ]
     },
     "execution_count": 9,
     "metadata": {},
     "output_type": "execute_result"
    }
   ],
   "source": [
    "is_raining = False\n",
    "print(is_raining)\n",
    "type(is_raining)"
   ]
  },
  {
   "cell_type": "code",
   "execution_count": null,
   "id": "4c212851-1124-43fe-b2a7-f0bc9d6ae13c",
   "metadata": {},
   "outputs": [],
   "source": []
  },
  {
   "cell_type": "code",
   "execution_count": null,
   "id": "65e4f4c4-36df-4858-ace3-d883cf982cba",
   "metadata": {},
   "outputs": [],
   "source": [
    "# 4.Create a variable my_name and store your full name in it as a string. Then print the value of my_name using single quotes ' ."
   ]
  },
  {
   "cell_type": "code",
   "execution_count": 3,
   "id": "28c09767-e894-4517-8732-aae1101846fb",
   "metadata": {},
   "outputs": [
    {
     "name": "stdout",
     "output_type": "stream",
     "text": [
      "'srk'\n"
     ]
    }
   ],
   "source": [
    "my_name = \"'srk'\"\n",
    "\n",
    "print(my_name)"
   ]
  },
  {
   "cell_type": "code",
   "execution_count": null,
   "id": "71032ff7-26c9-47bf-989f-c05ab94d12bd",
   "metadata": {},
   "outputs": [],
   "source": [
    "# 5.Write a Python program that asks the user for their name and age using the input() function. Store the inputs in variables and print a sentence like\n",
    "# \"Hello, [Name]! You are [Age] years old.\" Ensure you cast the age to a integer."
   ]
  },
  {
   "cell_type": "code",
   "execution_count": 4,
   "id": "1df6785a-9ef1-45f7-97fe-3a58b7dc3d6f",
   "metadata": {},
   "outputs": [
    {
     "name": "stdin",
     "output_type": "stream",
     "text": [
      " srk\n",
      " 24\n"
     ]
    },
    {
     "name": "stdout",
     "output_type": "stream",
     "text": [
      "Hello,srk! You are 24 years old.\n"
     ]
    }
   ],
   "source": [
    "name =str(input())\n",
    "age =int(input())\n",
    "x=f\"Hello,{name}! You are {age} years old.\"\n",
    "print(x)"
   ]
  },
  {
   "cell_type": "code",
   "execution_count": null,
   "id": "2bdac092-d1d3-497e-86cb-8abfc42f5a7a",
   "metadata": {},
   "outputs": [],
   "source": []
  },
  {
   "cell_type": "code",
   "execution_count": null,
   "id": "6624c45f-d355-4ed3-9ed1-05bb9236e406",
   "metadata": {},
   "outputs": [],
   "source": [
    "# 6.Create two variables x and y and assign them the values 10 and 3.5 , respectively. Print their values and types. \n",
    "# Then, create a new variable sum_xy and store the sum of x and y . Print the result and its type."
   ]
  },
  {
   "cell_type": "code",
   "execution_count": 5,
   "id": "f10e3f89-e2c7-4339-a608-8f2c6655d437",
   "metadata": {},
   "outputs": [
    {
     "name": "stdout",
     "output_type": "stream",
     "text": [
      "10\n"
     ]
    },
    {
     "data": {
      "text/plain": [
       "int"
      ]
     },
     "execution_count": 5,
     "metadata": {},
     "output_type": "execute_result"
    }
   ],
   "source": [
    "x = 10\n",
    "print(x)\n",
    "type(x)"
   ]
  },
  {
   "cell_type": "code",
   "execution_count": 6,
   "id": "b7cda0ad-5c55-4569-8661-def878744ada",
   "metadata": {},
   "outputs": [
    {
     "name": "stdout",
     "output_type": "stream",
     "text": [
      "3.5\n"
     ]
    },
    {
     "data": {
      "text/plain": [
       "float"
      ]
     },
     "execution_count": 6,
     "metadata": {},
     "output_type": "execute_result"
    }
   ],
   "source": [
    "y = 3.5\n",
    "print(y)\n",
    "type(y)"
   ]
  },
  {
   "cell_type": "code",
   "execution_count": 24,
   "id": "41d7f582-61f8-4504-a15d-f706f268bd6b",
   "metadata": {},
   "outputs": [
    {
     "name": "stdout",
     "output_type": "stream",
     "text": [
      "13.5\n"
     ]
    },
    {
     "data": {
      "text/plain": [
       "float"
      ]
     },
     "execution_count": 24,
     "metadata": {},
     "output_type": "execute_result"
    }
   ],
   "source": [
    "sum_xy = x + y\n",
    "print(sum_xy)\n",
    "type(sum_xy)"
   ]
  },
  {
   "cell_type": "code",
   "execution_count": null,
   "id": "42810f0b-f39e-417f-ada2-7fdf63e2d85b",
   "metadata": {},
   "outputs": [],
   "source": []
  },
  {
   "cell_type": "code",
   "execution_count": null,
   "id": "26cdf842-7038-46cf-923f-747b770be3fd",
   "metadata": {},
   "outputs": [],
   "source": [
    "# 7.Using the type() function, check and print the data type of the following:\n",
    "# 45.0\n",
    "# \"hello\"\n",
    "# None\n",
    "# False"
   ]
  },
  {
   "cell_type": "code",
   "execution_count": 26,
   "id": "21e2e559-f444-43af-82fd-6fd8eb4095ac",
   "metadata": {},
   "outputs": [
    {
     "data": {
      "text/plain": [
       "float"
      ]
     },
     "execution_count": 26,
     "metadata": {},
     "output_type": "execute_result"
    }
   ],
   "source": [
    "type(45.0)"
   ]
  },
  {
   "cell_type": "code",
   "execution_count": 27,
   "id": "f05532b2-6e80-42c7-ae2e-e52f43b5fe0d",
   "metadata": {},
   "outputs": [
    {
     "data": {
      "text/plain": [
       "str"
      ]
     },
     "execution_count": 27,
     "metadata": {},
     "output_type": "execute_result"
    }
   ],
   "source": [
    "type(\"hello\")"
   ]
  },
  {
   "cell_type": "code",
   "execution_count": 28,
   "id": "8592a637-9cb8-4978-a9be-b86ce03f7091",
   "metadata": {},
   "outputs": [
    {
     "data": {
      "text/plain": [
       "NoneType"
      ]
     },
     "execution_count": 28,
     "metadata": {},
     "output_type": "execute_result"
    }
   ],
   "source": [
    "type(None)"
   ]
  },
  {
   "cell_type": "code",
   "execution_count": 29,
   "id": "b2e72113-a278-4e7e-b8a3-6532e3871666",
   "metadata": {},
   "outputs": [
    {
     "data": {
      "text/plain": [
       "bool"
      ]
     },
     "execution_count": 29,
     "metadata": {},
     "output_type": "execute_result"
    }
   ],
   "source": [
    "type(False)"
   ]
  },
  {
   "cell_type": "code",
   "execution_count": null,
   "id": "47f885c3-3da6-4c6e-8ef8-ca3db7596aeb",
   "metadata": {},
   "outputs": [],
   "source": []
  },
  {
   "cell_type": "code",
   "execution_count": null,
   "id": "e616711b-f0c4-4972-a822-f54b407d7cab",
   "metadata": {},
   "outputs": [],
   "source": [
    "# 8.Write a Python program to print three strings \"apple\" , \"banana\" , and \"cherry\" on the same line, separated by a space. Then modify the program to separate the strings using a comma , instead of a space."
   ]
  },
  {
   "cell_type": "code",
   "execution_count": 30,
   "id": "30f4a99b-8e1c-411f-831b-097e1f0cf7b5",
   "metadata": {},
   "outputs": [
    {
     "name": "stdout",
     "output_type": "stream",
     "text": [
      "apple banana cherry\n"
     ]
    }
   ],
   "source": [
    "print(\"apple\",\"banana\",\"cherry\")"
   ]
  },
  {
   "cell_type": "code",
   "execution_count": null,
   "id": "6de9bae0-6d69-421e-89d7-f16836bd0a7d",
   "metadata": {},
   "outputs": [],
   "source": []
  },
  {
   "cell_type": "code",
   "execution_count": 7,
   "id": "016fdcdc-daa4-48a6-a0c9-5b7d1254ced4",
   "metadata": {},
   "outputs": [],
   "source": [
    "# 9.Create a variable big_number and assign it a very large integer value (e.g., 987654321987654321 ). Print the value and its type. What do you notice about the size of the number?"
   ]
  },
  {
   "cell_type": "code",
   "execution_count": 31,
   "id": "a1f97084-af12-4225-b11e-0e108d299e7f",
   "metadata": {},
   "outputs": [
    {
     "name": "stdout",
     "output_type": "stream",
     "text": [
      "987654321987654321\n"
     ]
    },
    {
     "data": {
      "text/plain": [
       "int"
      ]
     },
     "execution_count": 31,
     "metadata": {},
     "output_type": "execute_result"
    }
   ],
   "source": [
    "big_num = 987654321987654321\n",
    "print(big_num)\n",
    "type(big_num)"
   ]
  },
  {
   "cell_type": "code",
   "execution_count": null,
   "id": "c232c415-7e1b-4adc-8d50-1d27ec1dbb17",
   "metadata": {},
   "outputs": [],
   "source": []
  },
  {
   "cell_type": "code",
   "execution_count": 8,
   "id": "795b6017-adbe-4fd0-baa1-fdab65dbbee0",
   "metadata": {},
   "outputs": [],
   "source": [
    "# 10.Write a Python program that prints the result of multiplying two floats (e.g., 2.5 and 3.7 ). Then check and print the data type of the result."
   ]
  },
  {
   "cell_type": "code",
   "execution_count": 9,
   "id": "c60b3cb4-42e8-4eab-a476-61a1e440f2f6",
   "metadata": {},
   "outputs": [
    {
     "name": "stdout",
     "output_type": "stream",
     "text": [
      "6.2\n"
     ]
    },
    {
     "data": {
      "text/plain": [
       "float"
      ]
     },
     "execution_count": 9,
     "metadata": {},
     "output_type": "execute_result"
    }
   ],
   "source": [
    "x = 2.5\n",
    "y = 3.7\n",
    "print(x+y)\n",
    "type(x+y)"
   ]
  },
  {
   "cell_type": "code",
   "execution_count": null,
   "id": "79b9199a-22f6-4e4f-ba38-71cb9d85bb27",
   "metadata": {},
   "outputs": [],
   "source": []
  }
 ],
 "metadata": {
  "kernelspec": {
   "display_name": "Python 3 (ipykernel)",
   "language": "python",
   "name": "python3"
  },
  "language_info": {
   "codemirror_mode": {
    "name": "ipython",
    "version": 3
   },
   "file_extension": ".py",
   "mimetype": "text/x-python",
   "name": "python",
   "nbconvert_exporter": "python",
   "pygments_lexer": "ipython3",
   "version": "3.13.1"
  }
 },
 "nbformat": 4,
 "nbformat_minor": 5
}
