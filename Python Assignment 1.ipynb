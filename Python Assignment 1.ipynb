{
 "cells": [
  {
   "cell_type": "code",
   "execution_count": null,
   "id": "ff0df497-ca18-40a4-9e2a-75c4d9757a2c",
   "metadata": {},
   "outputs": [],
   "source": [
    "# Assignment no .1"
   ]
  },
  {
   "cell_type": "code",
   "execution_count": null,
   "id": "56f68216-6ae6-4037-9440-aca1d4e6d363",
   "metadata": {},
   "outputs": [],
   "source": [
    "# 1.Write a Python program to print your name and favourite colour on two  separate lines."
   ]
  },
  {
   "cell_type": "code",
   "execution_count": 1,
   "id": "d9e6b8d7-eb63-4c88-ad0b-2e033d47ccd9",
   "metadata": {},
   "outputs": [
    {
     "name": "stdout",
     "output_type": "stream",
     "text": [
      "adeeb\n",
      "white\n"
     ]
    }
   ],
   "source": [
    "print(\"adeeb\")\n",
    "print(\"white\")"
   ]
  },
  {
   "cell_type": "code",
   "execution_count": null,
   "id": "accbafbb-d6f6-40fa-b42d-cd62c1d7165c",
   "metadata": {},
   "outputs": [],
   "source": [
    "# 2.Write a Python program that prints the result of adding 7 and 8."
   ]
  },
  {
   "cell_type": "code",
   "execution_count": 4,
   "id": "3d069073-22d0-40b5-a548-f5603f3bea60",
   "metadata": {},
   "outputs": [
    {
     "name": "stdout",
     "output_type": "stream",
     "text": [
      "15\n"
     ]
    }
   ],
   "source": [
    "result = 7 + 8\n",
    "print(result)"
   ]
  },
  {
   "cell_type": "code",
   "execution_count": null,
   "id": "2cd514c2-12e4-4d13-b8f2-97ce5bddd698",
   "metadata": {},
   "outputs": [],
   "source": [
    "# 3.Use the print function to display the following text exactly as it is:\n",
    "Python is fun!\n",
    "\n",
    "Let's learn together."
   ]
  },
  {
   "cell_type": "code",
   "execution_count": 5,
   "id": "86ec24c9-f6d8-4ab1-9d50-a0c060541827",
   "metadata": {},
   "outputs": [
    {
     "name": "stdout",
     "output_type": "stream",
     "text": [
      "Python is fun!\n",
      "Let's learn together.\n"
     ]
    }
   ],
   "source": [
    "print(\"Python is fun!\\nLet's learn together.\")"
   ]
  },
  {
   "cell_type": "code",
   "execution_count": null,
   "id": "eecd33ec-4180-4429-8ded-7149855c5f65",
   "metadata": {},
   "outputs": [],
   "source": [
    "# 4.Write a Python program to calculate and print the result of multiplying 6 by 9."
   ]
  },
  {
   "cell_type": "code",
   "execution_count": 6,
   "id": "65fd5d0a-61fc-4d04-afff-a2c9d19335e5",
   "metadata": {},
   "outputs": [
    {
     "name": "stdout",
     "output_type": "stream",
     "text": [
      "54\n"
     ]
    }
   ],
   "source": [
    "num1 = 6\n",
    "num2 = 9\n",
    "\n",
    "result = num1 * num2\n",
    "\n",
    "print(result)"
   ]
  },
  {
   "cell_type": "code",
   "execution_count": null,
   "id": "d8ec65b3-d769-483c-9bc6-ed123aa1b7b5",
   "metadata": {},
   "outputs": [],
   "source": [
    "# 5.Write a Python program that prints the result of adding 5 5 an multiplying 2 3 in a single line of code"
   ]
  },
  {
   "cell_type": "code",
   "execution_count": 1,
   "id": "fd539a3f-4bb8-40eb-bb37-d174f501c762",
   "metadata": {},
   "outputs": [
    {
     "name": "stdout",
     "output_type": "stream",
     "text": [
      "Add= 10 Multiply= 6\n"
     ]
    }
   ],
   "source": [
    "print(\"Add=\", 5 + 5, \"Multiply=\", 2 * 3)"
   ]
  },
  {
   "cell_type": "code",
   "execution_count": 10,
   "id": "8bf00014-69ab-4c48-960d-ce2a2f22ab32",
   "metadata": {},
   "outputs": [],
   "source": [
    "# 1.Take the name A as input from the user and print \"Hello A\", where A the name in input."
   ]
  },
  {
   "cell_type": "code",
   "execution_count": 2,
   "id": "f0bce321-7eb2-4b9c-be43-93f014c65ed4",
   "metadata": {},
   "outputs": [
    {
     "name": "stdin",
     "output_type": "stream",
     "text": [
      " adeeb\n"
     ]
    },
    {
     "name": "stdout",
     "output_type": "stream",
     "text": [
      "Hello adeeb\n"
     ]
    }
   ],
   "source": [
    "A = input()\n",
    "print(\"Hello\", A)"
   ]
  },
  {
   "cell_type": "code",
   "execution_count": null,
   "id": "df6dd584-76aa-4c60-bf0b-4f75e7cb1d58",
   "metadata": {},
   "outputs": [],
   "source": [
    "# 2.You have x rupees in your savings. You google pay y rupees, print your bank balance"
   ]
  },
  {
   "cell_type": "code",
   "execution_count": 4,
   "id": "c7934546-ae71-44ec-bd00-c170db0eb91f",
   "metadata": {},
   "outputs": [
    {
     "name": "stdin",
     "output_type": "stream",
     "text": [
      "saving 200\n",
      "gpay amount 150\n"
     ]
    },
    {
     "name": "stdout",
     "output_type": "stream",
     "text": [
      "50.0\n"
     ]
    }
   ],
   "source": [
    "x = float(input(\"saving\"))\n",
    "y = float(input(\"gpay amount\"))\n",
    "\n",
    "bank_balance = x-y\n",
    "\n",
    "print(bank_balance)"
   ]
  },
  {
   "cell_type": "code",
   "execution_count": null,
   "id": "bd515e5f-d4a8-4ed7-b1f6-862b860c808f",
   "metadata": {},
   "outputs": [],
   "source": [
    "# 3.Print the first five letters of the English alphabet i.e. A, B, C, D and E.one below each other"
   ]
  },
  {
   "cell_type": "code",
   "execution_count": 14,
   "id": "6cc2bd26-ce39-4b29-baed-096fec26a26a",
   "metadata": {},
   "outputs": [
    {
     "name": "stdout",
     "output_type": "stream",
     "text": [
      "A\n",
      "B\n",
      "C\n",
      "D\n",
      "E\n"
     ]
    }
   ],
   "source": [
    "print(\"A\")\n",
    "print(\"B\")\n",
    "print(\"C\")\n",
    "print(\"D\")\n",
    "print(\"E\")"
   ]
  },
  {
   "cell_type": "code",
   "execution_count": null,
   "id": "d1cce1fd-7549-4667-9da6-194bd829be7d",
   "metadata": {},
   "outputs": [],
   "source": [
    "# 4.Take two names A and B as input from the user, and print \"A says Hi to B\" (Without quotations), where A and B are the names in input."
   ]
  },
  {
   "cell_type": "code",
   "execution_count": 15,
   "id": "a31742d0-1fdb-4440-afaf-588539389e04",
   "metadata": {},
   "outputs": [
    {
     "name": "stdin",
     "output_type": "stream",
     "text": [
      " A\n",
      " B\n"
     ]
    },
    {
     "name": "stdout",
     "output_type": "stream",
     "text": [
      "A says Hi to B\n"
     ]
    }
   ],
   "source": [
    "A = input()\n",
    "B = input()\n",
    "print(A, \"says Hi to\", B)"
   ]
  }
 ],
 "metadata": {
  "kernelspec": {
   "display_name": "Python 3 (ipykernel)",
   "language": "python",
   "name": "python3"
  },
  "language_info": {
   "codemirror_mode": {
    "name": "ipython",
    "version": 3
   },
   "file_extension": ".py",
   "mimetype": "text/x-python",
   "name": "python",
   "nbconvert_exporter": "python",
   "pygments_lexer": "ipython3",
   "version": "3.13.1"
  }
 },
 "nbformat": 4,
 "nbformat_minor": 5
}
